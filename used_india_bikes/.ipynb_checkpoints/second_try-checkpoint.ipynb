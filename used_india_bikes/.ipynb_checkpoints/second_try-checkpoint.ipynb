{
 "cells": [
  {
   "cell_type": "code",
   "execution_count": 1,
   "id": "ba501ffb",
   "metadata": {},
   "outputs": [],
   "source": [
    "import pandas as pd\n",
    "import matplotlib.pyplot as plt\n",
    "import seaborn as sns\n",
    "%matplotlib inline"
   ]
  },
  {
   "cell_type": "code",
   "execution_count": 2,
   "id": "4b28b080",
   "metadata": {},
   "outputs": [],
   "source": [
    "bikes = pd.read_csv('bikes.csv')"
   ]
  },
  {
   "cell_type": "code",
   "execution_count": 3,
   "id": "438a7b94",
   "metadata": {},
   "outputs": [
    {
     "data": {
      "text/html": [
       "<div>\n",
       "<style scoped>\n",
       "    .dataframe tbody tr th:only-of-type {\n",
       "        vertical-align: middle;\n",
       "    }\n",
       "\n",
       "    .dataframe tbody tr th {\n",
       "        vertical-align: top;\n",
       "    }\n",
       "\n",
       "    .dataframe thead th {\n",
       "        text-align: right;\n",
       "    }\n",
       "</style>\n",
       "<table border=\"1\" class=\"dataframe\">\n",
       "  <thead>\n",
       "    <tr style=\"text-align: right;\">\n",
       "      <th></th>\n",
       "      <th>model_name</th>\n",
       "      <th>model_year</th>\n",
       "      <th>kms_driven</th>\n",
       "      <th>owner</th>\n",
       "      <th>location</th>\n",
       "      <th>mileage</th>\n",
       "      <th>power</th>\n",
       "      <th>price</th>\n",
       "    </tr>\n",
       "  </thead>\n",
       "  <tbody>\n",
       "    <tr>\n",
       "      <th>0</th>\n",
       "      <td>Bajaj Avenger Cruise 220 2017</td>\n",
       "      <td>2017</td>\n",
       "      <td>17000 Km</td>\n",
       "      <td>first owner</td>\n",
       "      <td>hyderabad</td>\n",
       "      <td>\\n\\n 35 kmpl</td>\n",
       "      <td>19 bhp</td>\n",
       "      <td>63500</td>\n",
       "    </tr>\n",
       "    <tr>\n",
       "      <th>1</th>\n",
       "      <td>Royal Enfield Classic 350cc 2016</td>\n",
       "      <td>2016</td>\n",
       "      <td>50000 Km</td>\n",
       "      <td>first owner</td>\n",
       "      <td>hyderabad</td>\n",
       "      <td>\\n\\n 35 kmpl</td>\n",
       "      <td>19.80 bhp</td>\n",
       "      <td>115000</td>\n",
       "    </tr>\n",
       "    <tr>\n",
       "      <th>2</th>\n",
       "      <td>Hyosung GT250R 2012</td>\n",
       "      <td>2012</td>\n",
       "      <td>14795 Km</td>\n",
       "      <td>first owner</td>\n",
       "      <td>hyderabad</td>\n",
       "      <td>\\n\\n 30 kmpl</td>\n",
       "      <td>28 bhp</td>\n",
       "      <td>300000</td>\n",
       "    </tr>\n",
       "    <tr>\n",
       "      <th>3</th>\n",
       "      <td>Bajaj Dominar 400 ABS 2017</td>\n",
       "      <td>2017</td>\n",
       "      <td>Mileage 28 Kms</td>\n",
       "      <td>first owner</td>\n",
       "      <td>pondicherry</td>\n",
       "      <td>\\n\\n 28 Kms</td>\n",
       "      <td>34.50 bhp</td>\n",
       "      <td>100000</td>\n",
       "    </tr>\n",
       "    <tr>\n",
       "      <th>4</th>\n",
       "      <td>Jawa Perak 330cc 2020</td>\n",
       "      <td>2020</td>\n",
       "      <td>2000 Km</td>\n",
       "      <td>first owner</td>\n",
       "      <td>bangalore</td>\n",
       "      <td>\\n\\n</td>\n",
       "      <td>30 bhp</td>\n",
       "      <td>197500</td>\n",
       "    </tr>\n",
       "  </tbody>\n",
       "</table>\n",
       "</div>"
      ],
      "text/plain": [
       "                         model_name  model_year      kms_driven        owner  \\\n",
       "0     Bajaj Avenger Cruise 220 2017        2017        17000 Km  first owner   \n",
       "1  Royal Enfield Classic 350cc 2016        2016        50000 Km  first owner   \n",
       "2               Hyosung GT250R 2012        2012        14795 Km  first owner   \n",
       "3        Bajaj Dominar 400 ABS 2017        2017  Mileage 28 Kms  first owner   \n",
       "4             Jawa Perak 330cc 2020        2020         2000 Km  first owner   \n",
       "\n",
       "      location       mileage      power   price  \n",
       "0    hyderabad  \\n\\n 35 kmpl     19 bhp   63500  \n",
       "1    hyderabad  \\n\\n 35 kmpl  19.80 bhp  115000  \n",
       "2    hyderabad  \\n\\n 30 kmpl     28 bhp  300000  \n",
       "3  pondicherry   \\n\\n 28 Kms  34.50 bhp  100000  \n",
       "4    bangalore         \\n\\n      30 bhp  197500  "
      ]
     },
     "execution_count": 3,
     "metadata": {},
     "output_type": "execute_result"
    }
   ],
   "source": [
    "bikes.head()"
   ]
  },
  {
   "cell_type": "code",
   "execution_count": 4,
   "id": "25090fac",
   "metadata": {},
   "outputs": [
    {
     "name": "stdout",
     "output_type": "stream",
     "text": [
      "<class 'pandas.core.frame.DataFrame'>\n",
      "RangeIndex: 7857 entries, 0 to 7856\n",
      "Data columns (total 8 columns):\n",
      " #   Column      Non-Null Count  Dtype \n",
      "---  ------      --------------  ----- \n",
      " 0   model_name  7857 non-null   object\n",
      " 1   model_year  7857 non-null   int64 \n",
      " 2   kms_driven  7857 non-null   object\n",
      " 3   owner       7857 non-null   object\n",
      " 4   location    7838 non-null   object\n",
      " 5   mileage     7846 non-null   object\n",
      " 6   power       7826 non-null   object\n",
      " 7   price       7857 non-null   int64 \n",
      "dtypes: int64(2), object(6)\n",
      "memory usage: 491.2+ KB\n"
     ]
    }
   ],
   "source": [
    "bikes.info()"
   ]
  },
  {
   "cell_type": "code",
   "execution_count": 5,
   "id": "2ce2ac52",
   "metadata": {},
   "outputs": [
    {
     "data": {
      "text/html": [
       "<div>\n",
       "<style scoped>\n",
       "    .dataframe tbody tr th:only-of-type {\n",
       "        vertical-align: middle;\n",
       "    }\n",
       "\n",
       "    .dataframe tbody tr th {\n",
       "        vertical-align: top;\n",
       "    }\n",
       "\n",
       "    .dataframe thead th {\n",
       "        text-align: right;\n",
       "    }\n",
       "</style>\n",
       "<table border=\"1\" class=\"dataframe\">\n",
       "  <thead>\n",
       "    <tr style=\"text-align: right;\">\n",
       "      <th></th>\n",
       "      <th>model_year</th>\n",
       "      <th>price</th>\n",
       "    </tr>\n",
       "  </thead>\n",
       "  <tbody>\n",
       "    <tr>\n",
       "      <th>count</th>\n",
       "      <td>7857.000000</td>\n",
       "      <td>7.857000e+03</td>\n",
       "    </tr>\n",
       "    <tr>\n",
       "      <th>mean</th>\n",
       "      <td>2015.367698</td>\n",
       "      <td>1.067913e+05</td>\n",
       "    </tr>\n",
       "    <tr>\n",
       "      <th>std</th>\n",
       "      <td>4.001443</td>\n",
       "      <td>1.389261e+05</td>\n",
       "    </tr>\n",
       "    <tr>\n",
       "      <th>min</th>\n",
       "      <td>1950.000000</td>\n",
       "      <td>0.000000e+00</td>\n",
       "    </tr>\n",
       "    <tr>\n",
       "      <th>25%</th>\n",
       "      <td>2014.000000</td>\n",
       "      <td>4.200000e+04</td>\n",
       "    </tr>\n",
       "    <tr>\n",
       "      <th>50%</th>\n",
       "      <td>2016.000000</td>\n",
       "      <td>7.500000e+04</td>\n",
       "    </tr>\n",
       "    <tr>\n",
       "      <th>75%</th>\n",
       "      <td>2018.000000</td>\n",
       "      <td>1.250000e+05</td>\n",
       "    </tr>\n",
       "    <tr>\n",
       "      <th>max</th>\n",
       "      <td>2021.000000</td>\n",
       "      <td>3.000000e+06</td>\n",
       "    </tr>\n",
       "  </tbody>\n",
       "</table>\n",
       "</div>"
      ],
      "text/plain": [
       "        model_year         price\n",
       "count  7857.000000  7.857000e+03\n",
       "mean   2015.367698  1.067913e+05\n",
       "std       4.001443  1.389261e+05\n",
       "min    1950.000000  0.000000e+00\n",
       "25%    2014.000000  4.200000e+04\n",
       "50%    2016.000000  7.500000e+04\n",
       "75%    2018.000000  1.250000e+05\n",
       "max    2021.000000  3.000000e+06"
      ]
     },
     "execution_count": 5,
     "metadata": {},
     "output_type": "execute_result"
    }
   ],
   "source": [
    "bikes.describe()"
   ]
  },
  {
   "cell_type": "code",
   "execution_count": 6,
   "id": "fcadd923",
   "metadata": {},
   "outputs": [
    {
     "data": {
      "text/html": [
       "<div>\n",
       "<style scoped>\n",
       "    .dataframe tbody tr th:only-of-type {\n",
       "        vertical-align: middle;\n",
       "    }\n",
       "\n",
       "    .dataframe tbody tr th {\n",
       "        vertical-align: top;\n",
       "    }\n",
       "\n",
       "    .dataframe thead th {\n",
       "        text-align: right;\n",
       "    }\n",
       "</style>\n",
       "<table border=\"1\" class=\"dataframe\">\n",
       "  <thead>\n",
       "    <tr style=\"text-align: right;\">\n",
       "      <th></th>\n",
       "      <th>model_name</th>\n",
       "      <th>model_year</th>\n",
       "      <th>kms_driven</th>\n",
       "      <th>owner</th>\n",
       "      <th>location</th>\n",
       "      <th>mileage</th>\n",
       "      <th>power</th>\n",
       "      <th>price</th>\n",
       "    </tr>\n",
       "  </thead>\n",
       "  <tbody>\n",
       "    <tr>\n",
       "      <th>4786</th>\n",
       "      <td>Bajaj  Pulsar 180cc 2009</td>\n",
       "      <td>2009</td>\n",
       "      <td>60000 Km</td>\n",
       "      <td>second owner</td>\n",
       "      <td>delhi</td>\n",
       "      <td>\\n\\n 45 kmpl</td>\n",
       "      <td>17 bhp</td>\n",
       "      <td>0</td>\n",
       "    </tr>\n",
       "    <tr>\n",
       "      <th>6200</th>\n",
       "      <td>Hero Passion Xpro 110cc 2015</td>\n",
       "      <td>2015</td>\n",
       "      <td>9000 Km</td>\n",
       "      <td>first owner</td>\n",
       "      <td>jaipur</td>\n",
       "      <td>\\n\\n 55 kmpl</td>\n",
       "      <td>6.72 KW (9.1 Ps)</td>\n",
       "      <td>0</td>\n",
       "    </tr>\n",
       "    <tr>\n",
       "      <th>6780</th>\n",
       "      <td>Hyosung GT250R 2013</td>\n",
       "      <td>2013</td>\n",
       "      <td>5000 Km</td>\n",
       "      <td>first owner</td>\n",
       "      <td>delhi</td>\n",
       "      <td>\\n\\n 30 kmpl</td>\n",
       "      <td>28 bhp</td>\n",
       "      <td>0</td>\n",
       "    </tr>\n",
       "    <tr>\n",
       "      <th>6795</th>\n",
       "      <td>Royal Enfield Classic 500cc 2014</td>\n",
       "      <td>2014</td>\n",
       "      <td>10200 Km</td>\n",
       "      <td>first owner</td>\n",
       "      <td>bangalore</td>\n",
       "      <td>\\n\\n 32 kmpl</td>\n",
       "      <td>27.20 bhp</td>\n",
       "      <td>0</td>\n",
       "    </tr>\n",
       "    <tr>\n",
       "      <th>7393</th>\n",
       "      <td>Bajaj Pulsar 200 NS 200cc 2008</td>\n",
       "      <td>2008</td>\n",
       "      <td>28000 Km</td>\n",
       "      <td>first owner</td>\n",
       "      <td>vadodara</td>\n",
       "      <td>\\n\\n</td>\n",
       "      <td>23 bhp</td>\n",
       "      <td>0</td>\n",
       "    </tr>\n",
       "    <tr>\n",
       "      <th>7408</th>\n",
       "      <td>Hero Passion Pro 100cc 2009</td>\n",
       "      <td>2009</td>\n",
       "      <td>33474 Km</td>\n",
       "      <td>first owner</td>\n",
       "      <td>chennai</td>\n",
       "      <td>\\n\\n 5 kmpl</td>\n",
       "      <td>8.2 Bhp</td>\n",
       "      <td>0</td>\n",
       "    </tr>\n",
       "    <tr>\n",
       "      <th>7428</th>\n",
       "      <td>TVS Star City 110cc 2012</td>\n",
       "      <td>2012</td>\n",
       "      <td>53520 Km</td>\n",
       "      <td>first owner</td>\n",
       "      <td>chennai</td>\n",
       "      <td>\\n\\n 85 kmpl</td>\n",
       "      <td>8.2 bhp</td>\n",
       "      <td>0</td>\n",
       "    </tr>\n",
       "    <tr>\n",
       "      <th>7429</th>\n",
       "      <td>Hero Passion Pro 100cc 2014</td>\n",
       "      <td>2014</td>\n",
       "      <td>16138 Km</td>\n",
       "      <td>first owner</td>\n",
       "      <td>chennai</td>\n",
       "      <td>\\n\\n 5 kmpl</td>\n",
       "      <td>8.2 Bhp</td>\n",
       "      <td>0</td>\n",
       "    </tr>\n",
       "    <tr>\n",
       "      <th>7476</th>\n",
       "      <td>TVS Apache RTR 180cc 2012</td>\n",
       "      <td>2012</td>\n",
       "      <td>Mileage 45 Kmpl</td>\n",
       "      <td>first owner</td>\n",
       "      <td>bhuj</td>\n",
       "      <td>\\n\\n 45 Kmpl</td>\n",
       "      <td>17.2 bhp</td>\n",
       "      <td>0</td>\n",
       "    </tr>\n",
       "    <tr>\n",
       "      <th>7482</th>\n",
       "      <td>TVS Star City Plus 110cc 2015</td>\n",
       "      <td>2015</td>\n",
       "      <td>4500 Km</td>\n",
       "      <td>first owner</td>\n",
       "      <td>jaipur</td>\n",
       "      <td>\\n\\n 85 kmpl</td>\n",
       "      <td>8.2 bhp</td>\n",
       "      <td>0</td>\n",
       "    </tr>\n",
       "    <tr>\n",
       "      <th>7508</th>\n",
       "      <td>Hero Passion Plus 100cc 2010</td>\n",
       "      <td>2010</td>\n",
       "      <td>16000 Km</td>\n",
       "      <td>first owner</td>\n",
       "      <td>chennai</td>\n",
       "      <td>\\n\\n 55 kmpl</td>\n",
       "      <td>7.5 Bhp</td>\n",
       "      <td>0</td>\n",
       "    </tr>\n",
       "    <tr>\n",
       "      <th>7509</th>\n",
       "      <td>Bajaj Discover 110cc 2012</td>\n",
       "      <td>2012</td>\n",
       "      <td>27000 Km</td>\n",
       "      <td>first owner</td>\n",
       "      <td>chennai</td>\n",
       "      <td>\\n\\n 72 kmpl</td>\n",
       "      <td>8.51 PS</td>\n",
       "      <td>0</td>\n",
       "    </tr>\n",
       "    <tr>\n",
       "      <th>7510</th>\n",
       "      <td>Bajaj Pulsar 150cc 2010</td>\n",
       "      <td>2010</td>\n",
       "      <td>Mileage 65 Kmpl</td>\n",
       "      <td>first owner</td>\n",
       "      <td>chennai</td>\n",
       "      <td>\\n\\n 65 Kmpl</td>\n",
       "      <td>14.85 bhp</td>\n",
       "      <td>0</td>\n",
       "    </tr>\n",
       "    <tr>\n",
       "      <th>7599</th>\n",
       "      <td>Bajaj Pulsar 150cc 2008</td>\n",
       "      <td>2008</td>\n",
       "      <td>Mileage 65 Kmpl</td>\n",
       "      <td>first owner</td>\n",
       "      <td>bhopal</td>\n",
       "      <td>\\n\\n 65 Kmpl</td>\n",
       "      <td>14.85 bhp</td>\n",
       "      <td>0</td>\n",
       "    </tr>\n",
       "    <tr>\n",
       "      <th>7626</th>\n",
       "      <td>Hero Splendor 100cc 1997</td>\n",
       "      <td>1997</td>\n",
       "      <td>50000 Km</td>\n",
       "      <td>first owner</td>\n",
       "      <td>chennai</td>\n",
       "      <td>\\n\\n 45 kmpl</td>\n",
       "      <td>7.44bhp</td>\n",
       "      <td>0</td>\n",
       "    </tr>\n",
       "    <tr>\n",
       "      <th>7645</th>\n",
       "      <td>Hero Splendor 100cc 2003</td>\n",
       "      <td>2003</td>\n",
       "      <td>60345 Km</td>\n",
       "      <td>first owner</td>\n",
       "      <td>cuttack</td>\n",
       "      <td>\\n\\n 45-60 kmpl</td>\n",
       "      <td>6.15kW (8.36 Ps)</td>\n",
       "      <td>0</td>\n",
       "    </tr>\n",
       "    <tr>\n",
       "      <th>7649</th>\n",
       "      <td>Hero Karizma 223 cc 2008</td>\n",
       "      <td>2008</td>\n",
       "      <td>22000 Km</td>\n",
       "      <td>first owner</td>\n",
       "      <td>delhi</td>\n",
       "      <td>\\n\\n</td>\n",
       "      <td>14.9 kW (20 BHP)</td>\n",
       "      <td>0</td>\n",
       "    </tr>\n",
       "    <tr>\n",
       "      <th>7667</th>\n",
       "      <td>Bajaj Discover 125ST 2013</td>\n",
       "      <td>2013</td>\n",
       "      <td>13299 Km</td>\n",
       "      <td>first owner</td>\n",
       "      <td>ludhiana</td>\n",
       "      <td>\\n\\n 65 kmpl</td>\n",
       "      <td>12.5 ps</td>\n",
       "      <td>0</td>\n",
       "    </tr>\n",
       "    <tr>\n",
       "      <th>7671</th>\n",
       "      <td>Hero Passion Plus 100cc 2006</td>\n",
       "      <td>2006</td>\n",
       "      <td>20313 Km</td>\n",
       "      <td>first owner</td>\n",
       "      <td>delhi</td>\n",
       "      <td>\\n\\n 55 kmpl</td>\n",
       "      <td>7.5 Bhp</td>\n",
       "      <td>0</td>\n",
       "    </tr>\n",
       "    <tr>\n",
       "      <th>7697</th>\n",
       "      <td>Yamaha YZF-R15 150cc 2011</td>\n",
       "      <td>2011</td>\n",
       "      <td>21200 Km</td>\n",
       "      <td>first owner</td>\n",
       "      <td>delhi</td>\n",
       "      <td>\\n\\n 42 kmpl</td>\n",
       "      <td>16 bhp</td>\n",
       "      <td>0</td>\n",
       "    </tr>\n",
       "    <tr>\n",
       "      <th>7722</th>\n",
       "      <td>TVS Star City 110cc 2009</td>\n",
       "      <td>2009</td>\n",
       "      <td>39888 Km</td>\n",
       "      <td>first owner</td>\n",
       "      <td>chennai</td>\n",
       "      <td>\\n\\n 85 kmpl</td>\n",
       "      <td>8.2 bhp</td>\n",
       "      <td>0</td>\n",
       "    </tr>\n",
       "    <tr>\n",
       "      <th>7753</th>\n",
       "      <td>Bajaj Discover 100M 2012</td>\n",
       "      <td>2012</td>\n",
       "      <td>Mileage 80 Kmpl</td>\n",
       "      <td>first owner</td>\n",
       "      <td>thane</td>\n",
       "      <td>\\n\\n 80 Kmpl</td>\n",
       "      <td>9.10 bhp</td>\n",
       "      <td>0</td>\n",
       "    </tr>\n",
       "    <tr>\n",
       "      <th>7756</th>\n",
       "      <td>Hero Splendor 100cc 1996</td>\n",
       "      <td>1996</td>\n",
       "      <td>75975 Km</td>\n",
       "      <td>first owner</td>\n",
       "      <td>ludhiana</td>\n",
       "      <td>\\n\\n 45 kmpl</td>\n",
       "      <td>7.44bhp</td>\n",
       "      <td>0</td>\n",
       "    </tr>\n",
       "    <tr>\n",
       "      <th>7757</th>\n",
       "      <td>Hero Passion Pro 100cc 2009</td>\n",
       "      <td>2009</td>\n",
       "      <td>50000 Km</td>\n",
       "      <td>first owner</td>\n",
       "      <td>ludhiana</td>\n",
       "      <td>\\n\\n 5 kmpl</td>\n",
       "      <td>8.2 Bhp</td>\n",
       "      <td>0</td>\n",
       "    </tr>\n",
       "    <tr>\n",
       "      <th>7764</th>\n",
       "      <td>Hyosung GT250R 2012</td>\n",
       "      <td>2012</td>\n",
       "      <td>97772 Km</td>\n",
       "      <td>first owner</td>\n",
       "      <td>hyderabad</td>\n",
       "      <td>\\n\\n 30 kmpl</td>\n",
       "      <td>28 bhp</td>\n",
       "      <td>0</td>\n",
       "    </tr>\n",
       "    <tr>\n",
       "      <th>7772</th>\n",
       "      <td>Hero Passion 100cc  2005</td>\n",
       "      <td>2005</td>\n",
       "      <td>38000 Km</td>\n",
       "      <td>first owner</td>\n",
       "      <td>vadodara</td>\n",
       "      <td>\\n\\n 55 kmpl</td>\n",
       "      <td>7.5 Bhp</td>\n",
       "      <td>0</td>\n",
       "    </tr>\n",
       "    <tr>\n",
       "      <th>7802</th>\n",
       "      <td>TVS Apache RTR 160cc 2011</td>\n",
       "      <td>2011</td>\n",
       "      <td>Mileage 60 Kmpl</td>\n",
       "      <td>first owner</td>\n",
       "      <td>chennai</td>\n",
       "      <td>\\n\\n 60 Kmpl</td>\n",
       "      <td>15.2 bhp</td>\n",
       "      <td>0</td>\n",
       "    </tr>\n",
       "    <tr>\n",
       "      <th>7810</th>\n",
       "      <td>Hero Splendor 100cc 1996</td>\n",
       "      <td>1996</td>\n",
       "      <td>30000 Km</td>\n",
       "      <td>first owner</td>\n",
       "      <td>silvasa</td>\n",
       "      <td>\\n\\n 45 kmpl</td>\n",
       "      <td>7.44bhp</td>\n",
       "      <td>0</td>\n",
       "    </tr>\n",
       "    <tr>\n",
       "      <th>7811</th>\n",
       "      <td>Hero Passion 100cc  2005</td>\n",
       "      <td>2005</td>\n",
       "      <td>35000 Km</td>\n",
       "      <td>first owner</td>\n",
       "      <td>silvasa</td>\n",
       "      <td>\\n\\n 55 kmpl</td>\n",
       "      <td>7.5 Bhp</td>\n",
       "      <td>0</td>\n",
       "    </tr>\n",
       "    <tr>\n",
       "      <th>7814</th>\n",
       "      <td>Yamaha Gladiator 125cc 2011</td>\n",
       "      <td>2011</td>\n",
       "      <td>20000 Km</td>\n",
       "      <td>first owner</td>\n",
       "      <td>chennai</td>\n",
       "      <td>\\n\\n 64 kmpl</td>\n",
       "      <td>10.8ps</td>\n",
       "      <td>0</td>\n",
       "    </tr>\n",
       "    <tr>\n",
       "      <th>7817</th>\n",
       "      <td>Hero Glamour 125cc 2009</td>\n",
       "      <td>2009</td>\n",
       "      <td>25000 Km</td>\n",
       "      <td>first owner</td>\n",
       "      <td>chennai</td>\n",
       "      <td>\\n\\n 55 kmpl</td>\n",
       "      <td>8.90 bhp</td>\n",
       "      <td>0</td>\n",
       "    </tr>\n",
       "  </tbody>\n",
       "</table>\n",
       "</div>"
      ],
      "text/plain": [
       "                            model_name  model_year       kms_driven  \\\n",
       "4786          Bajaj  Pulsar 180cc 2009        2009         60000 Km   \n",
       "6200      Hero Passion Xpro 110cc 2015        2015          9000 Km   \n",
       "6780               Hyosung GT250R 2013        2013          5000 Km   \n",
       "6795  Royal Enfield Classic 500cc 2014        2014         10200 Km   \n",
       "7393    Bajaj Pulsar 200 NS 200cc 2008        2008         28000 Km   \n",
       "7408       Hero Passion Pro 100cc 2009        2009         33474 Km   \n",
       "7428          TVS Star City 110cc 2012        2012         53520 Km   \n",
       "7429       Hero Passion Pro 100cc 2014        2014         16138 Km   \n",
       "7476         TVS Apache RTR 180cc 2012        2012  Mileage 45 Kmpl   \n",
       "7482     TVS Star City Plus 110cc 2015        2015          4500 Km   \n",
       "7508      Hero Passion Plus 100cc 2010        2010         16000 Km   \n",
       "7509         Bajaj Discover 110cc 2012        2012         27000 Km   \n",
       "7510           Bajaj Pulsar 150cc 2010        2010  Mileage 65 Kmpl   \n",
       "7599           Bajaj Pulsar 150cc 2008        2008  Mileage 65 Kmpl   \n",
       "7626          Hero Splendor 100cc 1997        1997         50000 Km   \n",
       "7645          Hero Splendor 100cc 2003        2003         60345 Km   \n",
       "7649          Hero Karizma 223 cc 2008        2008         22000 Km   \n",
       "7667         Bajaj Discover 125ST 2013        2013         13299 Km   \n",
       "7671      Hero Passion Plus 100cc 2006        2006         20313 Km   \n",
       "7697         Yamaha YZF-R15 150cc 2011        2011         21200 Km   \n",
       "7722          TVS Star City 110cc 2009        2009         39888 Km   \n",
       "7753          Bajaj Discover 100M 2012        2012  Mileage 80 Kmpl   \n",
       "7756          Hero Splendor 100cc 1996        1996         75975 Km   \n",
       "7757       Hero Passion Pro 100cc 2009        2009         50000 Km   \n",
       "7764               Hyosung GT250R 2012        2012         97772 Km   \n",
       "7772          Hero Passion 100cc  2005        2005         38000 Km   \n",
       "7802         TVS Apache RTR 160cc 2011        2011  Mileage 60 Kmpl   \n",
       "7810          Hero Splendor 100cc 1996        1996         30000 Km   \n",
       "7811          Hero Passion 100cc  2005        2005         35000 Km   \n",
       "7814       Yamaha Gladiator 125cc 2011        2011         20000 Km   \n",
       "7817           Hero Glamour 125cc 2009        2009         25000 Km   \n",
       "\n",
       "             owner   location          mileage             power  price  \n",
       "4786  second owner      delhi     \\n\\n 45 kmpl            17 bhp      0  \n",
       "6200   first owner     jaipur     \\n\\n 55 kmpl  6.72 KW (9.1 Ps)      0  \n",
       "6780   first owner      delhi     \\n\\n 30 kmpl            28 bhp      0  \n",
       "6795   first owner  bangalore     \\n\\n 32 kmpl         27.20 bhp      0  \n",
       "7393   first owner   vadodara            \\n\\n             23 bhp      0  \n",
       "7408   first owner    chennai      \\n\\n 5 kmpl           8.2 Bhp      0  \n",
       "7428   first owner    chennai     \\n\\n 85 kmpl           8.2 bhp      0  \n",
       "7429   first owner    chennai      \\n\\n 5 kmpl           8.2 Bhp      0  \n",
       "7476   first owner       bhuj     \\n\\n 45 Kmpl          17.2 bhp      0  \n",
       "7482   first owner     jaipur     \\n\\n 85 kmpl           8.2 bhp      0  \n",
       "7508   first owner    chennai     \\n\\n 55 kmpl           7.5 Bhp      0  \n",
       "7509   first owner    chennai     \\n\\n 72 kmpl           8.51 PS      0  \n",
       "7510   first owner    chennai     \\n\\n 65 Kmpl         14.85 bhp      0  \n",
       "7599   first owner     bhopal     \\n\\n 65 Kmpl         14.85 bhp      0  \n",
       "7626   first owner    chennai     \\n\\n 45 kmpl           7.44bhp      0  \n",
       "7645   first owner    cuttack  \\n\\n 45-60 kmpl  6.15kW (8.36 Ps)      0  \n",
       "7649   first owner      delhi            \\n\\n   14.9 kW (20 BHP)      0  \n",
       "7667   first owner   ludhiana     \\n\\n 65 kmpl           12.5 ps      0  \n",
       "7671   first owner      delhi     \\n\\n 55 kmpl           7.5 Bhp      0  \n",
       "7697   first owner      delhi     \\n\\n 42 kmpl            16 bhp      0  \n",
       "7722   first owner    chennai     \\n\\n 85 kmpl           8.2 bhp      0  \n",
       "7753   first owner      thane     \\n\\n 80 Kmpl          9.10 bhp      0  \n",
       "7756   first owner   ludhiana     \\n\\n 45 kmpl           7.44bhp      0  \n",
       "7757   first owner   ludhiana      \\n\\n 5 kmpl           8.2 Bhp      0  \n",
       "7764   first owner  hyderabad     \\n\\n 30 kmpl            28 bhp      0  \n",
       "7772   first owner   vadodara     \\n\\n 55 kmpl           7.5 Bhp      0  \n",
       "7802   first owner    chennai     \\n\\n 60 Kmpl          15.2 bhp      0  \n",
       "7810   first owner    silvasa     \\n\\n 45 kmpl           7.44bhp      0  \n",
       "7811   first owner    silvasa     \\n\\n 55 kmpl           7.5 Bhp      0  \n",
       "7814   first owner    chennai     \\n\\n 64 kmpl            10.8ps      0  \n",
       "7817   first owner    chennai     \\n\\n 55 kmpl          8.90 bhp      0  "
      ]
     },
     "execution_count": 6,
     "metadata": {},
     "output_type": "execute_result"
    }
   ],
   "source": [
    "bikes[bikes['price'] == 0]"
   ]
  },
  {
   "cell_type": "code",
   "execution_count": 7,
   "id": "4e94a2a2",
   "metadata": {},
   "outputs": [
    {
     "data": {
      "text/plain": [
       "model_name     0\n",
       "model_year     0\n",
       "kms_driven     0\n",
       "owner          0\n",
       "location      19\n",
       "mileage       11\n",
       "power         31\n",
       "price          0\n",
       "dtype: int64"
      ]
     },
     "execution_count": 7,
     "metadata": {},
     "output_type": "execute_result"
    }
   ],
   "source": [
    "bikes.isnull().sum()"
   ]
  },
  {
   "cell_type": "code",
   "execution_count": 8,
   "id": "0b94daa1",
   "metadata": {},
   "outputs": [],
   "source": [
    "bikes.dropna(inplace=True)"
   ]
  },
  {
   "cell_type": "code",
   "execution_count": 9,
   "id": "c32ee609",
   "metadata": {},
   "outputs": [
    {
     "data": {
      "text/plain": [
       "model_name    0\n",
       "model_year    0\n",
       "kms_driven    0\n",
       "owner         0\n",
       "location      0\n",
       "mileage       0\n",
       "power         0\n",
       "price         0\n",
       "dtype: int64"
      ]
     },
     "execution_count": 9,
     "metadata": {},
     "output_type": "execute_result"
    }
   ],
   "source": [
    "bikes.isnull().sum()"
   ]
  },
  {
   "cell_type": "code",
   "execution_count": 10,
   "id": "34e40fa8",
   "metadata": {},
   "outputs": [
    {
     "data": {
      "text/plain": [
       "0"
      ]
     },
     "execution_count": 10,
     "metadata": {},
     "output_type": "execute_result"
    }
   ],
   "source": [
    "bikes.duplicated().sum()"
   ]
  },
  {
   "cell_type": "code",
   "execution_count": 11,
   "id": "aec4fbed",
   "metadata": {},
   "outputs": [],
   "source": [
    "bikes = bikes[bikes['price']>0]"
   ]
  },
  {
   "cell_type": "code",
   "execution_count": 12,
   "id": "5daf7db3",
   "metadata": {},
   "outputs": [
    {
     "data": {
      "text/plain": [
       "(7765, 8)"
      ]
     },
     "execution_count": 12,
     "metadata": {},
     "output_type": "execute_result"
    }
   ],
   "source": [
    "bikes.shape"
   ]
  },
  {
   "cell_type": "code",
   "execution_count": 13,
   "id": "42c570f5",
   "metadata": {},
   "outputs": [],
   "source": [
    "bikes['model_name'] = bikes['model_name'].str.replace('Royal Enfield','Royal-Enfield')"
   ]
  },
  {
   "cell_type": "code",
   "execution_count": 14,
   "id": "aaf42186",
   "metadata": {},
   "outputs": [],
   "source": [
    "bikes['company'] = bikes['model_name'].apply(lambda x:x.split()[0])"
   ]
  },
  {
   "cell_type": "code",
   "execution_count": 15,
   "id": "4c2af71b",
   "metadata": {},
   "outputs": [
    {
     "data": {
      "text/plain": [
       "Bajaj               2092\n",
       "Royal-Enfield       1717\n",
       "Hero                 784\n",
       "Yamaha               738\n",
       "TVS                  559\n",
       "Honda                527\n",
       "KTM                  488\n",
       "Suzuki               222\n",
       "Harley-Davidson      163\n",
       "UM                   127\n",
       "Kawasaki              66\n",
       "Benelli               51\n",
       "Hyosung               49\n",
       "Jawa                  46\n",
       "Triumph               35\n",
       "Mahindra              27\n",
       "Royal-Enfield‎        22\n",
       "Ducati                16\n",
       "Husqvarna             11\n",
       "BMW                   10\n",
       "BenelliImperiale       6\n",
       "Fb                     2\n",
       "Aprilia                2\n",
       "MV                     2\n",
       "Moto                   1\n",
       "Indian                 1\n",
       "Yazdi                  1\n",
       "Name: company, dtype: int64"
      ]
     },
     "execution_count": 15,
     "metadata": {},
     "output_type": "execute_result"
    }
   ],
   "source": [
    "bikes['company'].value_counts()"
   ]
  },
  {
   "cell_type": "code",
   "execution_count": 16,
   "id": "c06c6417",
   "metadata": {},
   "outputs": [],
   "source": [
    "# ALL JOB DONE MANUALLY\n",
    "\n",
    "# bikes.drop(bikes[bikes['company'] == 'BenelliImperiale'].index, inplace=True)\n",
    "# bikes.drop(bikes[bikes['company'] == 'Fb'].index, inplace=True)\n",
    "# bikes.drop(bikes[bikes['company'] == 'MV'].index, inplace=True)\n",
    "# bikes.drop(bikes[bikes['company'] == 'Moto'].index, inplace=True)\n",
    "# bikes.drop(bikes[bikes['company'] == 'Indian'].index, inplace=True)\n",
    "# bikes.drop(bikes[bikes['company'] == 'Yazdi'].index, inplace=True)\n",
    "# bikes.drop(bikes[bikes['company'] == 'Aprilia'].index, inplace=True)\n",
    "# bikes.drop(bikes[bikes['company'] == 'BMW'].index, inplace=True)\n",
    "# bikes.drop(bikes[bikes['company'] == 'Ducati'].index, inplace=True)\n",
    "# bikes.drop(bikes[bikes['company'] == 'Husqvarna'].index, inplace=True)"
   ]
  },
  {
   "cell_type": "code",
   "execution_count": 17,
   "id": "a89c57f9",
   "metadata": {},
   "outputs": [
    {
     "data": {
      "text/plain": [
       "(7765, 9)"
      ]
     },
     "execution_count": 17,
     "metadata": {},
     "output_type": "execute_result"
    }
   ],
   "source": [
    "bikes.shape"
   ]
  },
  {
   "cell_type": "code",
   "execution_count": 18,
   "id": "5d9f7402",
   "metadata": {},
   "outputs": [],
   "source": [
    "freq_company = bikes['company'].value_counts()[bikes['company'].value_counts()>=25].index.tolist()"
   ]
  },
  {
   "cell_type": "code",
   "execution_count": 19,
   "id": "2cb0f639",
   "metadata": {},
   "outputs": [],
   "source": [
    "bikes = bikes[bikes['company'].isin(freq_company)]"
   ]
  },
  {
   "cell_type": "code",
   "execution_count": 20,
   "id": "dcf1230a",
   "metadata": {},
   "outputs": [
    {
     "data": {
      "text/plain": [
       "Bajaj              2092\n",
       "Royal-Enfield      1717\n",
       "Hero                784\n",
       "Yamaha              738\n",
       "TVS                 559\n",
       "Honda               527\n",
       "KTM                 488\n",
       "Suzuki              222\n",
       "Harley-Davidson     163\n",
       "UM                  127\n",
       "Kawasaki             66\n",
       "Benelli              51\n",
       "Hyosung              49\n",
       "Jawa                 46\n",
       "Triumph              35\n",
       "Mahindra             27\n",
       "Name: company, dtype: int64"
      ]
     },
     "execution_count": 20,
     "metadata": {},
     "output_type": "execute_result"
    }
   ],
   "source": [
    "bikes['company'].value_counts()"
   ]
  },
  {
   "cell_type": "code",
   "execution_count": 21,
   "id": "232ee399",
   "metadata": {},
   "outputs": [],
   "source": [
    "bikes['model'] = bikes['model_name'].apply(lambda x:' '.join(x.split()[1:2])).copy()"
   ]
  },
  {
   "cell_type": "code",
   "execution_count": 22,
   "id": "217b75f4",
   "metadata": {},
   "outputs": [],
   "source": [
    "#bikes['model'][0].split()[0:-1]"
   ]
  },
  {
   "cell_type": "code",
   "execution_count": 23,
   "id": "dedc699e",
   "metadata": {},
   "outputs": [],
   "source": [
    "#bikes['model'] = bikes['model'].apply(lambda x: ' '.join(x.split()[0:-1]))"
   ]
  },
  {
   "cell_type": "code",
   "execution_count": 24,
   "id": "a94ffa6b",
   "metadata": {},
   "outputs": [
    {
     "data": {
      "text/plain": [
       "0    Avenger\n",
       "1    Classic\n",
       "2     GT250R\n",
       "3    Dominar\n",
       "4      Perak\n",
       "Name: model, dtype: object"
      ]
     },
     "execution_count": 24,
     "metadata": {},
     "output_type": "execute_result"
    }
   ],
   "source": [
    "bikes['model'].head()"
   ]
  },
  {
   "cell_type": "code",
   "execution_count": 25,
   "id": "4cd8fec9",
   "metadata": {},
   "outputs": [],
   "source": [
    "freq_models = bikes['model'].value_counts()[bikes['model'].value_counts() >= 10].index.tolist()"
   ]
  },
  {
   "cell_type": "code",
   "execution_count": 26,
   "id": "7d332a9f",
   "metadata": {},
   "outputs": [],
   "source": [
    "bikes = bikes[bikes['model'].isin(freq_models)]"
   ]
  },
  {
   "cell_type": "code",
   "execution_count": 27,
   "id": "81c164e8",
   "metadata": {},
   "outputs": [
    {
     "data": {
      "text/plain": [
       "(7469, 10)"
      ]
     },
     "execution_count": 27,
     "metadata": {},
     "output_type": "execute_result"
    }
   ],
   "source": [
    "bikes.shape"
   ]
  },
  {
   "cell_type": "code",
   "execution_count": 28,
   "id": "872a6643",
   "metadata": {},
   "outputs": [
    {
     "data": {
      "text/html": [
       "<div>\n",
       "<style scoped>\n",
       "    .dataframe tbody tr th:only-of-type {\n",
       "        vertical-align: middle;\n",
       "    }\n",
       "\n",
       "    .dataframe tbody tr th {\n",
       "        vertical-align: top;\n",
       "    }\n",
       "\n",
       "    .dataframe thead th {\n",
       "        text-align: right;\n",
       "    }\n",
       "</style>\n",
       "<table border=\"1\" class=\"dataframe\">\n",
       "  <thead>\n",
       "    <tr style=\"text-align: right;\">\n",
       "      <th></th>\n",
       "      <th>model_name</th>\n",
       "      <th>model_year</th>\n",
       "      <th>kms_driven</th>\n",
       "      <th>owner</th>\n",
       "      <th>location</th>\n",
       "      <th>mileage</th>\n",
       "      <th>power</th>\n",
       "      <th>price</th>\n",
       "      <th>company</th>\n",
       "      <th>model</th>\n",
       "    </tr>\n",
       "  </thead>\n",
       "  <tbody>\n",
       "    <tr>\n",
       "      <th>0</th>\n",
       "      <td>Bajaj Avenger Cruise 220 2017</td>\n",
       "      <td>2017</td>\n",
       "      <td>17000 Km</td>\n",
       "      <td>first owner</td>\n",
       "      <td>hyderabad</td>\n",
       "      <td>\\n\\n 35 kmpl</td>\n",
       "      <td>19 bhp</td>\n",
       "      <td>63500</td>\n",
       "      <td>Bajaj</td>\n",
       "      <td>Avenger</td>\n",
       "    </tr>\n",
       "    <tr>\n",
       "      <th>1</th>\n",
       "      <td>Royal-Enfield Classic 350cc 2016</td>\n",
       "      <td>2016</td>\n",
       "      <td>50000 Km</td>\n",
       "      <td>first owner</td>\n",
       "      <td>hyderabad</td>\n",
       "      <td>\\n\\n 35 kmpl</td>\n",
       "      <td>19.80 bhp</td>\n",
       "      <td>115000</td>\n",
       "      <td>Royal-Enfield</td>\n",
       "      <td>Classic</td>\n",
       "    </tr>\n",
       "    <tr>\n",
       "      <th>2</th>\n",
       "      <td>Hyosung GT250R 2012</td>\n",
       "      <td>2012</td>\n",
       "      <td>14795 Km</td>\n",
       "      <td>first owner</td>\n",
       "      <td>hyderabad</td>\n",
       "      <td>\\n\\n 30 kmpl</td>\n",
       "      <td>28 bhp</td>\n",
       "      <td>300000</td>\n",
       "      <td>Hyosung</td>\n",
       "      <td>GT250R</td>\n",
       "    </tr>\n",
       "    <tr>\n",
       "      <th>3</th>\n",
       "      <td>Bajaj Dominar 400 ABS 2017</td>\n",
       "      <td>2017</td>\n",
       "      <td>Mileage 28 Kms</td>\n",
       "      <td>first owner</td>\n",
       "      <td>pondicherry</td>\n",
       "      <td>\\n\\n 28 Kms</td>\n",
       "      <td>34.50 bhp</td>\n",
       "      <td>100000</td>\n",
       "      <td>Bajaj</td>\n",
       "      <td>Dominar</td>\n",
       "    </tr>\n",
       "    <tr>\n",
       "      <th>4</th>\n",
       "      <td>Jawa Perak 330cc 2020</td>\n",
       "      <td>2020</td>\n",
       "      <td>2000 Km</td>\n",
       "      <td>first owner</td>\n",
       "      <td>bangalore</td>\n",
       "      <td>\\n\\n</td>\n",
       "      <td>30 bhp</td>\n",
       "      <td>197500</td>\n",
       "      <td>Jawa</td>\n",
       "      <td>Perak</td>\n",
       "    </tr>\n",
       "  </tbody>\n",
       "</table>\n",
       "</div>"
      ],
      "text/plain": [
       "                         model_name  model_year      kms_driven        owner  \\\n",
       "0     Bajaj Avenger Cruise 220 2017        2017        17000 Km  first owner   \n",
       "1  Royal-Enfield Classic 350cc 2016        2016        50000 Km  first owner   \n",
       "2               Hyosung GT250R 2012        2012        14795 Km  first owner   \n",
       "3        Bajaj Dominar 400 ABS 2017        2017  Mileage 28 Kms  first owner   \n",
       "4             Jawa Perak 330cc 2020        2020         2000 Km  first owner   \n",
       "\n",
       "      location       mileage      power   price        company    model  \n",
       "0    hyderabad  \\n\\n 35 kmpl     19 bhp   63500          Bajaj  Avenger  \n",
       "1    hyderabad  \\n\\n 35 kmpl  19.80 bhp  115000  Royal-Enfield  Classic  \n",
       "2    hyderabad  \\n\\n 30 kmpl     28 bhp  300000        Hyosung   GT250R  \n",
       "3  pondicherry   \\n\\n 28 Kms  34.50 bhp  100000          Bajaj  Dominar  \n",
       "4    bangalore         \\n\\n      30 bhp  197500           Jawa    Perak  "
      ]
     },
     "execution_count": 28,
     "metadata": {},
     "output_type": "execute_result"
    }
   ],
   "source": [
    "bikes.head()"
   ]
  },
  {
   "cell_type": "code",
   "execution_count": 29,
   "id": "2019490f",
   "metadata": {},
   "outputs": [],
   "source": [
    "bikes.drop('model_name', axis=1, inplace=True)"
   ]
  },
  {
   "cell_type": "code",
   "execution_count": 30,
   "id": "0d149bc4",
   "metadata": {},
   "outputs": [
    {
     "data": {
      "image/png": "[encoded data removed]",
      "text/plain": [
       "<Figure size 432x288 with 2 Axes>"
      ]
     },
     "metadata": {
      "needs_background": "light"
     },
     "output_type": "display_data"
    }
   ],
   "source": [
    "plt.subplot(1, 2, 1)\n",
    "sns.regplot(x='model_year', y='price', data=bikes)\n",
    "plt.subplot(1, 2, 2)\n",
    "sns.scatterplot(x='model_year', y='price', data=bikes)\n",
    "plt.tight_layout()"
   ]
  },
  {
   "cell_type": "code",
   "execution_count": 31,
   "id": "ab766b88",
   "metadata": {},
   "outputs": [],
   "source": [
    "bikes.drop(bikes[bikes['model_year'] < 1960].index, inplace=True)"
   ]
  },
  {
   "cell_type": "code",
   "execution_count": 32,
   "id": "0b68be62",
   "metadata": {},
   "outputs": [
    {
     "data": {
      "text/plain": [
       "array(['17000 Km', '50000 Km', '14795 Km', ..., '66780 Km', '16510 Km',\n",
       "       '6407 Km'], dtype=object)"
      ]
     },
     "execution_count": 32,
     "metadata": {},
     "output_type": "execute_result"
    }
   ],
   "source": [
    "bikes['kms_driven'].unique()"
   ]
  },
  {
   "cell_type": "code",
   "execution_count": 33,
   "id": "7423c06c",
   "metadata": {},
   "outputs": [],
   "source": [
    "bikes['kms_driven'] = bikes['kms_driven'].str.replace('Km', '')"
   ]
  },
  {
   "cell_type": "code",
   "execution_count": 34,
   "id": "b1275cba",
   "metadata": {},
   "outputs": [],
   "source": [
    "bikes = bikes[bikes['kms_driven'].apply(lambda x: True if x.find('Mil') == -1 else False)]"
   ]
  },
  {
   "cell_type": "code",
   "execution_count": 35,
   "id": "b45993ef",
   "metadata": {},
   "outputs": [
    {
     "data": {
      "text/plain": [
       "0    17000 \n",
       "1    50000 \n",
       "2    14795 \n",
       "4     2000 \n",
       "5    24561 \n",
       "Name: kms_driven, dtype: object"
      ]
     },
     "execution_count": 35,
     "metadata": {},
     "output_type": "execute_result"
    }
   ],
   "source": [
    "bikes['kms_driven'].head()"
   ]
  },
  {
   "cell_type": "code",
   "execution_count": 36,
   "id": "25249736",
   "metadata": {},
   "outputs": [
    {
     "data": {
      "text/plain": [
       "(5529, 9)"
      ]
     },
     "execution_count": 36,
     "metadata": {},
     "output_type": "execute_result"
    }
   ],
   "source": [
    "bikes.shape"
   ]
  },
  {
   "cell_type": "code",
   "execution_count": 37,
   "id": "b3a7828e",
   "metadata": {},
   "outputs": [
    {
     "data": {
      "text/html": [
       "<div>\n",
       "<style scoped>\n",
       "    .dataframe tbody tr th:only-of-type {\n",
       "        vertical-align: middle;\n",
       "    }\n",
       "\n",
       "    .dataframe tbody tr th {\n",
       "        vertical-align: top;\n",
       "    }\n",
       "\n",
       "    .dataframe thead th {\n",
       "        text-align: right;\n",
       "    }\n",
       "</style>\n",
       "<table border=\"1\" class=\"dataframe\">\n",
       "  <thead>\n",
       "    <tr style=\"text-align: right;\">\n",
       "      <th></th>\n",
       "      <th>model_year</th>\n",
       "      <th>kms_driven</th>\n",
       "      <th>owner</th>\n",
       "      <th>location</th>\n",
       "      <th>mileage</th>\n",
       "      <th>power</th>\n",
       "      <th>price</th>\n",
       "      <th>company</th>\n",
       "      <th>model</th>\n",
       "    </tr>\n",
       "  </thead>\n",
       "  <tbody>\n",
       "    <tr>\n",
       "      <th>0</th>\n",
       "      <td>2017</td>\n",
       "      <td>17000</td>\n",
       "      <td>first owner</td>\n",
       "      <td>hyderabad</td>\n",
       "      <td>\\n\\n 35 kmpl</td>\n",
       "      <td>19 bhp</td>\n",
       "      <td>63500</td>\n",
       "      <td>Bajaj</td>\n",
       "      <td>Avenger</td>\n",
       "    </tr>\n",
       "    <tr>\n",
       "      <th>1</th>\n",
       "      <td>2016</td>\n",
       "      <td>50000</td>\n",
       "      <td>first owner</td>\n",
       "      <td>hyderabad</td>\n",
       "      <td>\\n\\n 35 kmpl</td>\n",
       "      <td>19.80 bhp</td>\n",
       "      <td>115000</td>\n",
       "      <td>Royal-Enfield</td>\n",
       "      <td>Classic</td>\n",
       "    </tr>\n",
       "    <tr>\n",
       "      <th>2</th>\n",
       "      <td>2012</td>\n",
       "      <td>14795</td>\n",
       "      <td>first owner</td>\n",
       "      <td>hyderabad</td>\n",
       "      <td>\\n\\n 30 kmpl</td>\n",
       "      <td>28 bhp</td>\n",
       "      <td>300000</td>\n",
       "      <td>Hyosung</td>\n",
       "      <td>GT250R</td>\n",
       "    </tr>\n",
       "    <tr>\n",
       "      <th>4</th>\n",
       "      <td>2020</td>\n",
       "      <td>2000</td>\n",
       "      <td>first owner</td>\n",
       "      <td>bangalore</td>\n",
       "      <td>\\n\\n</td>\n",
       "      <td>30 bhp</td>\n",
       "      <td>197500</td>\n",
       "      <td>Jawa</td>\n",
       "      <td>Perak</td>\n",
       "    </tr>\n",
       "    <tr>\n",
       "      <th>5</th>\n",
       "      <td>2012</td>\n",
       "      <td>24561</td>\n",
       "      <td>third owner</td>\n",
       "      <td>bangalore</td>\n",
       "      <td>\\n\\n 35 kmpl</td>\n",
       "      <td>25 bhp</td>\n",
       "      <td>63400</td>\n",
       "      <td>KTM</td>\n",
       "      <td>Duke</td>\n",
       "    </tr>\n",
       "  </tbody>\n",
       "</table>\n",
       "</div>"
      ],
      "text/plain": [
       "   model_year kms_driven        owner   location       mileage      power  \\\n",
       "0        2017     17000   first owner  hyderabad  \\n\\n 35 kmpl     19 bhp   \n",
       "1        2016     50000   first owner  hyderabad  \\n\\n 35 kmpl  19.80 bhp   \n",
       "2        2012     14795   first owner  hyderabad  \\n\\n 30 kmpl     28 bhp   \n",
       "4        2020      2000   first owner  bangalore         \\n\\n      30 bhp   \n",
       "5        2012     24561   third owner  bangalore  \\n\\n 35 kmpl     25 bhp   \n",
       "\n",
       "    price        company    model  \n",
       "0   63500          Bajaj  Avenger  \n",
       "1  115000  Royal-Enfield  Classic  \n",
       "2  300000        Hyosung   GT250R  \n",
       "4  197500           Jawa    Perak  \n",
       "5   63400            KTM     Duke  "
      ]
     },
     "execution_count": 37,
     "metadata": {},
     "output_type": "execute_result"
    }
   ],
   "source": [
    "bikes.head()"
   ]
  },
  {
   "cell_type": "code",
   "execution_count": 38,
   "id": "495eef66",
   "metadata": {},
   "outputs": [],
   "source": [
    "# bikes['kms_driven'].astype('int')"
   ]
  },
  {
   "cell_type": "code",
   "execution_count": 39,
   "id": "5eaa4034",
   "metadata": {},
   "outputs": [],
   "source": [
    "bikes = bikes[bikes['kms_driven'] != 'Yes ']"
   ]
  },
  {
   "cell_type": "code",
   "execution_count": 40,
   "id": "dc62f7e2",
   "metadata": {},
   "outputs": [],
   "source": [
    "bikes['kms_driven'] = bikes['kms_driven'].astype('int').copy()"
   ]
  },
  {
   "cell_type": "code",
   "execution_count": 41,
   "id": "d22c1ec0",
   "metadata": {},
   "outputs": [
    {
     "data": {
      "text/plain": [
       "<AxesSubplot:xlabel='kms_driven', ylabel='Count'>"
      ]
     },
     "execution_count": 41,
     "metadata": {},
     "output_type": "execute_result"
    },
    {
     "data": {
      "image/png": "[encoded data removed]",
      "text/plain": [
       "<Figure size 432x288 with 1 Axes>"
      ]
     },
     "metadata": {
      "needs_background": "light"
     },
     "output_type": "display_data"
    }
   ],
   "source": [
    "sns.histplot(bikes['kms_driven'])"
   ]
  },
  {
   "cell_type": "code",
   "execution_count": 42,
   "id": "1dc83ea4",
   "metadata": {},
   "outputs": [
    {
     "data": {
      "text/plain": [
       "<AxesSubplot:xlabel='kms_driven', ylabel='price'>"
      ]
     },
     "execution_count": 42,
     "metadata": {},
     "output_type": "execute_result"
    },
    {
     "data": {
      "image/png": "[encoded data removed]",
      "text/plain": [
       "<Figure size 864x432 with 1 Axes>"
      ]
     },
     "metadata": {
      "needs_background": "light"
     },
     "output_type": "display_data"
    }
   ],
   "source": [
    "plt.figure(figsize=(12,6))\n",
    "sns.scatterplot(data=bikes, x='kms_driven', y='price')"
   ]
  },
  {
   "cell_type": "code",
   "execution_count": 43,
   "id": "5f60ec05",
   "metadata": {},
   "outputs": [
    {
     "data": {
      "text/plain": [
       "count       5526.000000\n",
       "mean       23202.058994\n",
       "std        28863.766692\n",
       "min            0.000000\n",
       "25%         9000.000000\n",
       "50%        17000.000000\n",
       "75%        30000.000000\n",
       "max      1000000.000000\n",
       "Name: kms_driven, dtype: float64"
      ]
     },
     "execution_count": 43,
     "metadata": {},
     "output_type": "execute_result"
    }
   ],
   "source": [
    "bikes['kms_driven'].describe()"
   ]
  },
  {
   "cell_type": "code",
   "execution_count": 44,
   "id": "49347ea8",
   "metadata": {},
   "outputs": [
    {
     "data": {
      "text/html": [
       "<div>\n",
       "<style scoped>\n",
       "    .dataframe tbody tr th:only-of-type {\n",
       "        vertical-align: middle;\n",
       "    }\n",
       "\n",
       "    .dataframe tbody tr th {\n",
       "        vertical-align: top;\n",
       "    }\n",
       "\n",
       "    .dataframe thead th {\n",
       "        text-align: right;\n",
       "    }\n",
       "</style>\n",
       "<table border=\"1\" class=\"dataframe\">\n",
       "  <thead>\n",
       "    <tr style=\"text-align: right;\">\n",
       "      <th></th>\n",
       "      <th>model_year</th>\n",
       "      <th>kms_driven</th>\n",
       "      <th>owner</th>\n",
       "      <th>location</th>\n",
       "      <th>mileage</th>\n",
       "      <th>power</th>\n",
       "      <th>price</th>\n",
       "      <th>company</th>\n",
       "      <th>model</th>\n",
       "    </tr>\n",
       "  </thead>\n",
       "  <tbody>\n",
       "    <tr>\n",
       "      <th>1020</th>\n",
       "      <td>2003</td>\n",
       "      <td>1000000</td>\n",
       "      <td>first owner</td>\n",
       "      <td>ahmednagar</td>\n",
       "      <td>\\n\\n 83 kmpl</td>\n",
       "      <td>7.70 bhp</td>\n",
       "      <td>23500</td>\n",
       "      <td>Hero</td>\n",
       "      <td>HF</td>\n",
       "    </tr>\n",
       "  </tbody>\n",
       "</table>\n",
       "</div>"
      ],
      "text/plain": [
       "      model_year  kms_driven        owner    location       mileage     power  \\\n",
       "1020        2003     1000000  first owner  ahmednagar  \\n\\n 83 kmpl  7.70 bhp   \n",
       "\n",
       "      price company model  \n",
       "1020  23500    Hero    HF  "
      ]
     },
     "execution_count": 44,
     "metadata": {},
     "output_type": "execute_result"
    }
   ],
   "source": [
    "bikes[bikes['kms_driven'] > 700000]"
   ]
  },
  {
   "cell_type": "code",
   "execution_count": 45,
   "id": "34a31131",
   "metadata": {},
   "outputs": [],
   "source": [
    "bikes.drop(index=1020, inplace=True)"
   ]
  },
  {
   "cell_type": "code",
   "execution_count": 46,
   "id": "873bccc8",
   "metadata": {},
   "outputs": [
    {
     "data": {
      "text/plain": [
       "array(['first owner', 'third owner', 'second owner',\n",
       "       'fourth owner or more'], dtype=object)"
      ]
     },
     "execution_count": 46,
     "metadata": {},
     "output_type": "execute_result"
    }
   ],
   "source": [
    "bikes['owner'].unique()"
   ]
  },
  {
   "cell_type": "code",
   "execution_count": 47,
   "id": "a58d7364",
   "metadata": {},
   "outputs": [],
   "source": [
    "bikes['owner'] = bikes['owner'].apply(lambda x: ' '.join(x.split()[0:1]))"
   ]
  },
  {
   "cell_type": "code",
   "execution_count": 48,
   "id": "b6b2f3b1",
   "metadata": {},
   "outputs": [
    {
     "data": {
      "text/plain": [
       "<AxesSubplot:xlabel='owner', ylabel='price'>"
      ]
     },
     "execution_count": 48,
     "metadata": {},
     "output_type": "execute_result"
    },
    {
     "data": {
      "image/png": "[encoded data removed]",
      "text/plain": [
       "<Figure size 432x288 with 1 Axes>"
      ]
     },
     "metadata": {
      "needs_background": "light"
     },
     "output_type": "display_data"
    }
   ],
   "source": [
    "sns.barplot(x='owner', y='price', data=bikes)"
   ]
  },
  {
   "cell_type": "code",
   "execution_count": 49,
   "id": "226d9f2f",
   "metadata": {},
   "outputs": [
    {
     "data": {
      "text/plain": [
       "<AxesSubplot:>"
      ]
     },
     "execution_count": 49,
     "metadata": {},
     "output_type": "execute_result"
    },
    {
     "data": {
      "image/png": "[encoded data removed]",
      "text/plain": [
       "<Figure size 432x288 with 1 Axes>"
      ]
     },
     "metadata": {
      "needs_background": "light"
     },
     "output_type": "display_data"
    }
   ],
   "source": [
    "bikes['owner'].value_counts().plot(kind='bar')"
   ]
  },
  {
   "cell_type": "code",
   "execution_count": 50,
   "id": "f3d47570",
   "metadata": {},
   "outputs": [
    {
     "data": {
      "text/plain": [
       "array(['\\n\\n 35 kmpl', '\\n\\n 30 kmpl', '\\n\\n ', '\\n\\n 65 kmpl',\n",
       "       '\\n\\n 25 kmpl', '\\n\\n 32 kmpl', '\\n\\n 40 kmpl', '\\n\\n 37 kmpl',\n",
       "       '\\n\\n 53 kmpl', '\\n\\n 45 kmpl', '\\n\\n 38 kmpl', '\\n\\n 29 kmpl',\n",
       "       '\\n\\n 55 kmpl', '\\n\\n 75 kmpl', '\\n\\n 63kmpl', '\\n\\n 45-55 kmpl',\n",
       "       '\\n\\n 5 kmpl', '\\n\\n 22 kmpl', '\\n\\n 26 kmpl', '\\n\\n 42 kmpl',\n",
       "       '\\n\\n 39.4 kmpl', '\\n\\n 89 kmpl', '\\n\\n 43 kmpl',\n",
       "       '\\n\\n Liquid Cooled', '\\n\\n 65kmpl', '\\n\\n 95 kmpl',\n",
       "       '\\n\\n 53.72 kmpl', '\\n\\n 26kmpl', '\\n\\n 48 kmpl', '\\n\\n 52 kmpl',\n",
       "       '\\n\\n 57 kmpl', '\\n\\n  60 kmpl', '\\n\\n 67 kmpl', '\\n\\n 81 kmpl',\n",
       "       '\\n\\n 60 kmpl', '\\n\\n 50 kmpl', '\\n\\n 83 kmpl', '\\n\\n 40-45',\n",
       "       '\\n\\n 64 kmpl', '\\n\\n 53kmpl', '\\n\\n 18 kmpl', '\\n\\n 84 kmpl',\n",
       "       '\\n\\n 62 kmpl', '\\n\\n 46.40 kmpl', '\\n\\n 85 kmpl', '\\n\\n 56 kmpl',\n",
       "       '\\n\\n 68 kmpl', '\\n\\n 38.5 kmpl', '\\n\\n 45-60 kmpl',\n",
       "       '\\n\\n 58 kmpl', '\\n\\n 55.47 kmpl', '\\n\\n 90 kmpl',\n",
       "       '\\n\\n 63.97 kmpl', '\\n\\n 20 kmpl', '\\n\\n 25kmpl', '\\n\\n 21 kmpl',\n",
       "       '\\n\\n 13 kmpl', '\\n\\n 12 kmpl', '\\n\\n 17 kmpl', '\\n\\n 27 kmpl',\n",
       "       '\\n\\n 19 kmpl', '\\n\\n 15 kmpl', '\\n\\n 55', '\\n\\n 54 kmpl',\n",
       "       '\\n\\n 16 kmpl', '\\n\\n 12.5 kmpl', '\\n\\n 72 kmpl', '\\n\\n 60 KMPL'],\n",
       "      dtype=object)"
      ]
     },
     "execution_count": 50,
     "metadata": {},
     "output_type": "execute_result"
    }
   ],
   "source": [
    "bikes['mileage'].unique()"
   ]
  },
  {
   "cell_type": "code",
   "execution_count": 51,
   "id": "50d00b9e",
   "metadata": {},
   "outputs": [],
   "source": [
    "bikes['mileage'] = bikes['mileage'].str.replace('\\n', '')\n",
    "bikes['mileage'] = bikes['mileage'].str.replace('kmpl', '')\n",
    "bikes['mileage'] = bikes['mileage'].str.replace('KMPL', '')\n",
    "bikes = bikes[bikes['mileage'] != ' Liquid Cooled']\n",
    "bikes = bikes[bikes['mileage'] != ' ']"
   ]
  },
  {
   "cell_type": "code",
   "execution_count": 52,
   "id": "ba70e747",
   "metadata": {},
   "outputs": [
    {
     "data": {
      "text/plain": [
       "array([' 35 ', ' 30 ', ' 65 ', ' 25 ', ' 32 ', ' 40 ', ' 37 ', ' 53 ',\n",
       "       ' 45 ', ' 38 ', ' 29 ', ' 55 ', ' 75 ', ' 63', ' 45-55 ', ' 5 ',\n",
       "       ' 22 ', ' 26 ', ' 42 ', ' 39.4 ', ' 89 ', ' 43 ', ' 65', ' 95 ',\n",
       "       ' 53.72 ', ' 26', ' 48 ', ' 52 ', ' 57 ', '  60 ', ' 67 ', ' 81 ',\n",
       "       ' 60 ', ' 50 ', ' 83 ', ' 40-45', ' 64 ', ' 53', ' 18 ', ' 84 ',\n",
       "       ' 62 ', ' 46.40 ', ' 85 ', ' 56 ', ' 68 ', ' 38.5 ', ' 45-60 ',\n",
       "       ' 58 ', ' 55.47 ', ' 90 ', ' 63.97 ', ' 20 ', ' 25', ' 21 ',\n",
       "       ' 13 ', ' 12 ', ' 17 ', ' 27 ', ' 19 ', ' 15 ', ' 55', ' 54 ',\n",
       "       ' 16 ', ' 12.5 ', ' 72 '], dtype=object)"
      ]
     },
     "execution_count": 52,
     "metadata": {},
     "output_type": "execute_result"
    }
   ],
   "source": [
    "bikes['mileage'].unique()"
   ]
  },
  {
   "cell_type": "code",
   "execution_count": 53,
   "id": "0e46e4c5",
   "metadata": {},
   "outputs": [],
   "source": [
    "bikes['mileage'] = bikes['mileage'].apply(lambda x: float(x) if len(x.split('-')) == 1 \n",
    "                                          else (int(x.split(\"-\")[0]) + int(x.split(\"-\")[1])) /2 )"
   ]
  },
  {
   "cell_type": "code",
   "execution_count": 54,
   "id": "94b69d3a",
   "metadata": {},
   "outputs": [
    {
     "data": {
      "text/plain": [
       "array([35.  , 30.  , 65.  , 25.  , 32.  , 40.  , 37.  , 53.  , 45.  ,\n",
       "       38.  , 29.  , 55.  , 75.  , 63.  , 50.  ,  5.  , 22.  , 26.  ,\n",
       "       42.  , 39.4 , 89.  , 43.  , 95.  , 53.72, 48.  , 52.  , 57.  ,\n",
       "       60.  , 67.  , 81.  , 83.  , 42.5 , 64.  , 18.  , 84.  , 62.  ,\n",
       "       46.4 , 85.  , 56.  , 68.  , 38.5 , 52.5 , 58.  , 55.47, 90.  ,\n",
       "       63.97, 20.  , 21.  , 13.  , 12.  , 17.  , 27.  , 19.  , 15.  ,\n",
       "       54.  , 16.  , 12.5 , 72.  ])"
      ]
     },
     "execution_count": 54,
     "metadata": {},
     "output_type": "execute_result"
    }
   ],
   "source": [
    "bikes['mileage'].unique()"
   ]
  },
  {
   "cell_type": "code",
   "execution_count": 55,
   "id": "df647f4f",
   "metadata": {},
   "outputs": [
    {
     "data": {
      "text/plain": [
       "<seaborn.axisgrid.FacetGrid at 0x29f5b999400>"
      ]
     },
     "execution_count": 55,
     "metadata": {},
     "output_type": "execute_result"
    },
    {
     "data": {
      "image/png": "[encoded data removed]",
      "text/plain": [
       "<Figure size 360x360 with 1 Axes>"
      ]
     },
     "metadata": {
      "needs_background": "light"
     },
     "output_type": "display_data"
    }
   ],
   "source": [
    "sns.displot(bikes['mileage'], kde=True)"
   ]
  },
  {
   "cell_type": "code",
   "execution_count": 56,
   "id": "77bd1fcd",
   "metadata": {},
   "outputs": [
    {
     "data": {
      "text/plain": [
       "<AxesSubplot:xlabel='mileage', ylabel='price'>"
      ]
     },
     "execution_count": 56,
     "metadata": {},
     "output_type": "execute_result"
    },
    {
     "data": {
      "image/png": "[encoded data removed]",
      "text/plain": [
       "<Figure size 432x288 with 1 Axes>"
      ]
     },
     "metadata": {
      "needs_background": "light"
     },
     "output_type": "display_data"
    }
   ],
   "source": [
    "sns.regplot(data=bikes, x='mileage', y='price')"
   ]
  },
  {
   "cell_type": "code",
   "execution_count": 57,
   "id": "32a3bfcc",
   "metadata": {},
   "outputs": [
    {
     "data": {
      "text/html": [
       "<div>\n",
       "<style scoped>\n",
       "    .dataframe tbody tr th:only-of-type {\n",
       "        vertical-align: middle;\n",
       "    }\n",
       "\n",
       "    .dataframe tbody tr th {\n",
       "        vertical-align: top;\n",
       "    }\n",
       "\n",
       "    .dataframe thead th {\n",
       "        text-align: right;\n",
       "    }\n",
       "</style>\n",
       "<table border=\"1\" class=\"dataframe\">\n",
       "  <thead>\n",
       "    <tr style=\"text-align: right;\">\n",
       "      <th></th>\n",
       "      <th>model_year</th>\n",
       "      <th>kms_driven</th>\n",
       "      <th>owner</th>\n",
       "      <th>location</th>\n",
       "      <th>mileage</th>\n",
       "      <th>power</th>\n",
       "      <th>price</th>\n",
       "      <th>company</th>\n",
       "      <th>model</th>\n",
       "    </tr>\n",
       "  </thead>\n",
       "  <tbody>\n",
       "    <tr>\n",
       "      <th>0</th>\n",
       "      <td>2017</td>\n",
       "      <td>17000</td>\n",
       "      <td>first</td>\n",
       "      <td>hyderabad</td>\n",
       "      <td>35.0</td>\n",
       "      <td>19 bhp</td>\n",
       "      <td>63500</td>\n",
       "      <td>Bajaj</td>\n",
       "      <td>Avenger</td>\n",
       "    </tr>\n",
       "    <tr>\n",
       "      <th>1</th>\n",
       "      <td>2016</td>\n",
       "      <td>50000</td>\n",
       "      <td>first</td>\n",
       "      <td>hyderabad</td>\n",
       "      <td>35.0</td>\n",
       "      <td>19.80 bhp</td>\n",
       "      <td>115000</td>\n",
       "      <td>Royal-Enfield</td>\n",
       "      <td>Classic</td>\n",
       "    </tr>\n",
       "    <tr>\n",
       "      <th>2</th>\n",
       "      <td>2012</td>\n",
       "      <td>14795</td>\n",
       "      <td>first</td>\n",
       "      <td>hyderabad</td>\n",
       "      <td>30.0</td>\n",
       "      <td>28 bhp</td>\n",
       "      <td>300000</td>\n",
       "      <td>Hyosung</td>\n",
       "      <td>GT250R</td>\n",
       "    </tr>\n",
       "    <tr>\n",
       "      <th>5</th>\n",
       "      <td>2012</td>\n",
       "      <td>24561</td>\n",
       "      <td>third</td>\n",
       "      <td>bangalore</td>\n",
       "      <td>35.0</td>\n",
       "      <td>25 bhp</td>\n",
       "      <td>63400</td>\n",
       "      <td>KTM</td>\n",
       "      <td>Duke</td>\n",
       "    </tr>\n",
       "    <tr>\n",
       "      <th>6</th>\n",
       "      <td>2016</td>\n",
       "      <td>19718</td>\n",
       "      <td>first</td>\n",
       "      <td>bangalore</td>\n",
       "      <td>65.0</td>\n",
       "      <td>17 bhp</td>\n",
       "      <td>55000</td>\n",
       "      <td>Bajaj</td>\n",
       "      <td>Pulsar</td>\n",
       "    </tr>\n",
       "  </tbody>\n",
       "</table>\n",
       "</div>"
      ],
      "text/plain": [
       "   model_year  kms_driven  owner   location  mileage      power   price  \\\n",
       "0        2017       17000  first  hyderabad     35.0     19 bhp   63500   \n",
       "1        2016       50000  first  hyderabad     35.0  19.80 bhp  115000   \n",
       "2        2012       14795  first  hyderabad     30.0     28 bhp  300000   \n",
       "5        2012       24561  third  bangalore     35.0     25 bhp   63400   \n",
       "6        2016       19718  first  bangalore     65.0     17 bhp   55000   \n",
       "\n",
       "         company    model  \n",
       "0          Bajaj  Avenger  \n",
       "1  Royal-Enfield  Classic  \n",
       "2        Hyosung   GT250R  \n",
       "5            KTM     Duke  \n",
       "6          Bajaj   Pulsar  "
      ]
     },
     "execution_count": 57,
     "metadata": {},
     "output_type": "execute_result"
    }
   ],
   "source": [
    "bikes.head()"
   ]
  },
  {
   "cell_type": "code",
   "execution_count": 58,
   "id": "c9b2ce9b",
   "metadata": {},
   "outputs": [
    {
     "data": {
      "text/plain": [
       "array(['19 bhp', '19.80 bhp', '28 bhp', '25 bhp', '17 bhp', '42.90 bhp',\n",
       "       '24.50 bhp', '19.8 Bhp', '13 bhp', '21 bhp', '24.80 bhp',\n",
       "       '26.15 bhp', '8.90 bhp', '9 bhp', '19.80 Bhp', '11 bhp',\n",
       "       '24.6 bhp', '27.20 bhp', '19.1 bhp', '14 bhp', '8 bhp', '7 Kw',\n",
       "       '8.2 Bhp', '14.30 bhp', '25.10 bhp', '33 bhp', '29.10 bhp',\n",
       "       '16 bhp', '16.70 bhp', '8.10 bhp', '18.1 bhp', '15 bhp',\n",
       "       '8.20 bhp', '7.91 bhp', '20.30 bhp', '14.4PS', '7.40 bhp',\n",
       "       '14.79 bhp', '42.30 bhp', '19.8 bhp', '20 bhp', '12.9 Bhp',\n",
       "       '12.5 ps', '12bhp', '24.3 bhp', '8.5 Bhp', '6.15kW (8.36 Ps)',\n",
       "       '14.60 bhp', '12.5 bhp', '11.80 bhp', '26.37 PS', '9.30 bhp',\n",
       "       '24.2 BHP', '18.28 bhp', '24.60 bhp', '7.70 bhp', '14.20 bhp',\n",
       "       '14.5hp', '65 bhp', '26.10 bhp', '15.30 bhp', '18.3 bhp',\n",
       "       '7.44bhp', '9.64 kw', '10.90 bhp', '11.64 bhp', '17.8 bhp',\n",
       "       '6.72 KW (9.1 Ps)', '16.80 bhp', '8.2 bhp', '8.51 PS', '20.11 bhp',\n",
       "       '7.5 Bhp', '12.2 bhp', '16.6 bhp', '10.72 bhp', '26.45 bhp',\n",
       "       '18.76 bhp', '12.8ps', '8.44 bhp', '42.3 bhp', '8.08 bhp',\n",
       "       '44 bhp', '43 bhp', '67.20 bhp', '50 bhp', '54.20 bhp', '47 bhp',\n",
       "       '10.59 bhp', '70 bhp', '111 bhp', '29.9 hp / 22 kW', '25.35 bhp',\n",
       "       '41.40 bhp', '77 bhp', '18.70 bhp', '72.68 bhp', '37.73 bhp',\n",
       "       '127 bhp', '7 bhp', '66.4 bhp', '93 bhp', '119.37 bhp', '39 bhp',\n",
       "       '26.21 bhp', '11.64 KW (15.6 BHP)', '15.60 bhp', '82.70 bhp',\n",
       "       '140 bhp', '10.60 bhp', '64 bhp', '13.7 Bhp', '74 bhp', '8.25 bhp',\n",
       "       '28.16 bhp', '129 bhp', '60 bhp', '178.11 PS', '197.30 bhp',\n",
       "       '84.11 bhp', '6.15 kW (8.36 Ps)', '8.4 bhp', '26.82 BHP'],\n",
       "      dtype=object)"
      ]
     },
     "execution_count": 58,
     "metadata": {},
     "output_type": "execute_result"
    }
   ],
   "source": [
    "bikes['power'].unique()"
   ]
  },
  {
   "cell_type": "code",
   "execution_count": 59,
   "id": "eb1364b1",
   "metadata": {},
   "outputs": [],
   "source": [
    "bikes['power'] = bikes['power'].astype('str')"
   ]
  },
  {
   "cell_type": "code",
   "execution_count": 60,
   "id": "4b7dd8e0",
   "metadata": {},
   "outputs": [],
   "source": [
    "bikes['power'] = bikes['power'].apply(lambda x: x.upper().replace('BHP', '').strip())"
   ]
  },
  {
   "cell_type": "code",
   "execution_count": 61,
   "id": "69e09f9b",
   "metadata": {},
   "outputs": [],
   "source": [
    "bikes['power'] = bikes['power'].apply(lambda x : x if x.find(\"HP\") == -1 else str(float(x[:x.find(\"HP\")-1])))"
   ]
  },
  {
   "cell_type": "code",
   "execution_count": 62,
   "id": "a576d71c",
   "metadata": {},
   "outputs": [],
   "source": [
    "bikes['power'] = bikes['power'].apply(lambda x : x if x.find(\"KW\") == -1 else str(float(x[:x.find(\"KW\")-1])*1.34))"
   ]
  },
  {
   "cell_type": "code",
   "execution_count": 63,
   "id": "67135815",
   "metadata": {},
   "outputs": [],
   "source": [
    "bikes['power'] = bikes['power'].apply(lambda x : x if x.find(\"PS\") == -1 else str(float(x[:x.find(\"PS\")-1])*0.98592325737265))"
   ]
  },
  {
   "cell_type": "code",
   "execution_count": 64,
   "id": "8e079d14",
   "metadata": {},
   "outputs": [],
   "source": [
    "bikes['power'] = bikes['power'].astype('float')"
   ]
  },
  {
   "cell_type": "code",
   "execution_count": 65,
   "id": "05db935b",
   "metadata": {},
   "outputs": [],
   "source": [
    "bikes['power'] = round(bikes['power'], 2)"
   ]
  },
  {
   "cell_type": "code",
   "execution_count": 66,
   "id": "2407b4ef",
   "metadata": {},
   "outputs": [
    {
     "data": {
      "text/plain": [
       "array([ 19.  ,  19.8 ,  28.  ,  25.  ,  17.  ,  42.9 ,  24.5 ,  13.  ,\n",
       "        21.  ,  24.8 ,  26.15,   8.9 ,   9.  ,  11.  ,  24.6 ,  27.2 ,\n",
       "        19.1 ,  14.  ,   8.  ,   9.38,   8.2 ,  14.3 ,  25.1 ,  33.  ,\n",
       "        29.1 ,  16.  ,  16.7 ,   8.1 ,  18.1 ,  15.  ,   7.91,  20.3 ,\n",
       "        13.8 ,   7.4 ,  14.79,  42.3 ,  20.  ,  12.9 ,  12.32,  12.  ,\n",
       "        24.3 ,   8.5 ,   8.17,  14.6 ,  12.5 ,  11.8 ,  26.  ,   9.3 ,\n",
       "        24.2 ,  18.28,   7.7 ,  14.2 ,  65.  ,  26.1 ,  15.3 ,  18.3 ,\n",
       "         7.44,  12.92,  10.9 ,  11.64,  17.8 ,  16.8 ,   8.39,  20.11,\n",
       "         7.5 ,  12.2 ,  16.6 ,  10.72,  26.45,  18.76,  11.83,   8.44,\n",
       "         8.08,  44.  ,  43.  ,  67.2 ,  50.  ,  54.2 ,  47.  ,  10.59,\n",
       "        70.  , 111.  ,  29.9 ,  25.35,  41.4 ,  77.  ,  18.7 ,  72.68,\n",
       "        37.73, 127.  ,   7.  ,  66.4 ,  93.  , 119.37,  39.  ,  26.21,\n",
       "        15.6 ,  82.7 , 140.  ,  10.6 ,  64.  ,  13.7 ,  74.  ,   8.25,\n",
       "        28.16, 129.  ,  60.  , 175.6 , 197.3 ,  84.11,   8.24,   8.4 ,\n",
       "        26.82])"
      ]
     },
     "execution_count": 66,
     "metadata": {},
     "output_type": "execute_result"
    }
   ],
   "source": [
    "bikes['power'].unique()"
   ]
  },
  {
   "cell_type": "code",
   "execution_count": 67,
   "id": "d2ac238f",
   "metadata": {},
   "outputs": [
    {
     "data": {
      "text/plain": [
       "<seaborn.axisgrid.FacetGrid at 0x29f5bb594f0>"
      ]
     },
     "execution_count": 67,
     "metadata": {},
     "output_type": "execute_result"
    },
    {
     "data": {
      "image/png": "[encoded data removed]",
      "text/plain": [
       "<Figure size 360x360 with 1 Axes>"
      ]
     },
     "metadata": {
      "needs_background": "light"
     },
     "output_type": "display_data"
    }
   ],
   "source": [
    "sns.displot(bikes['power'], kde=True, bins=50)"
   ]
  },
  {
   "cell_type": "code",
   "execution_count": 68,
   "id": "72e3fc00",
   "metadata": {},
   "outputs": [
    {
     "data": {
      "text/plain": [
       "<AxesSubplot:xlabel='power', ylabel='price'>"
      ]
     },
     "execution_count": 68,
     "metadata": {},
     "output_type": "execute_result"
    },
    {
     "data": {
      "image/png": "[encoded data removed]",
      "text/plain": [
       "<Figure size 432x288 with 1 Axes>"
      ]
     },
     "metadata": {
      "needs_background": "light"
     },
     "output_type": "display_data"
    }
   ],
   "source": [
    "sns.regplot(data=bikes, x='power', y='price')"
   ]
  },
  {
   "cell_type": "code",
   "execution_count": 69,
   "id": "7527148b",
   "metadata": {},
   "outputs": [
    {
     "data": {
      "text/html": [
       "<div>\n",
       "<style scoped>\n",
       "    .dataframe tbody tr th:only-of-type {\n",
       "        vertical-align: middle;\n",
       "    }\n",
       "\n",
       "    .dataframe tbody tr th {\n",
       "        vertical-align: top;\n",
       "    }\n",
       "\n",
       "    .dataframe thead th {\n",
       "        text-align: right;\n",
       "    }\n",
       "</style>\n",
       "<table border=\"1\" class=\"dataframe\">\n",
       "  <thead>\n",
       "    <tr style=\"text-align: right;\">\n",
       "      <th></th>\n",
       "      <th>model_year</th>\n",
       "      <th>kms_driven</th>\n",
       "      <th>owner</th>\n",
       "      <th>location</th>\n",
       "      <th>mileage</th>\n",
       "      <th>power</th>\n",
       "      <th>price</th>\n",
       "      <th>company</th>\n",
       "      <th>model</th>\n",
       "    </tr>\n",
       "  </thead>\n",
       "  <tbody>\n",
       "    <tr>\n",
       "      <th>0</th>\n",
       "      <td>2017</td>\n",
       "      <td>17000</td>\n",
       "      <td>first</td>\n",
       "      <td>hyderabad</td>\n",
       "      <td>35.0</td>\n",
       "      <td>19.0</td>\n",
       "      <td>63500</td>\n",
       "      <td>Bajaj</td>\n",
       "      <td>Avenger</td>\n",
       "    </tr>\n",
       "    <tr>\n",
       "      <th>1</th>\n",
       "      <td>2016</td>\n",
       "      <td>50000</td>\n",
       "      <td>first</td>\n",
       "      <td>hyderabad</td>\n",
       "      <td>35.0</td>\n",
       "      <td>19.8</td>\n",
       "      <td>115000</td>\n",
       "      <td>Royal-Enfield</td>\n",
       "      <td>Classic</td>\n",
       "    </tr>\n",
       "    <tr>\n",
       "      <th>2</th>\n",
       "      <td>2012</td>\n",
       "      <td>14795</td>\n",
       "      <td>first</td>\n",
       "      <td>hyderabad</td>\n",
       "      <td>30.0</td>\n",
       "      <td>28.0</td>\n",
       "      <td>300000</td>\n",
       "      <td>Hyosung</td>\n",
       "      <td>GT250R</td>\n",
       "    </tr>\n",
       "    <tr>\n",
       "      <th>5</th>\n",
       "      <td>2012</td>\n",
       "      <td>24561</td>\n",
       "      <td>third</td>\n",
       "      <td>bangalore</td>\n",
       "      <td>35.0</td>\n",
       "      <td>25.0</td>\n",
       "      <td>63400</td>\n",
       "      <td>KTM</td>\n",
       "      <td>Duke</td>\n",
       "    </tr>\n",
       "    <tr>\n",
       "      <th>6</th>\n",
       "      <td>2016</td>\n",
       "      <td>19718</td>\n",
       "      <td>first</td>\n",
       "      <td>bangalore</td>\n",
       "      <td>65.0</td>\n",
       "      <td>17.0</td>\n",
       "      <td>55000</td>\n",
       "      <td>Bajaj</td>\n",
       "      <td>Pulsar</td>\n",
       "    </tr>\n",
       "  </tbody>\n",
       "</table>\n",
       "</div>"
      ],
      "text/plain": [
       "   model_year  kms_driven  owner   location  mileage  power   price  \\\n",
       "0        2017       17000  first  hyderabad     35.0   19.0   63500   \n",
       "1        2016       50000  first  hyderabad     35.0   19.8  115000   \n",
       "2        2012       14795  first  hyderabad     30.0   28.0  300000   \n",
       "5        2012       24561  third  bangalore     35.0   25.0   63400   \n",
       "6        2016       19718  first  bangalore     65.0   17.0   55000   \n",
       "\n",
       "         company    model  \n",
       "0          Bajaj  Avenger  \n",
       "1  Royal-Enfield  Classic  \n",
       "2        Hyosung   GT250R  \n",
       "5            KTM     Duke  \n",
       "6          Bajaj   Pulsar  "
      ]
     },
     "execution_count": 69,
     "metadata": {},
     "output_type": "execute_result"
    }
   ],
   "source": [
    "bikes.head()"
   ]
  },
  {
   "cell_type": "code",
   "execution_count": 70,
   "id": "37a2b6d7",
   "metadata": {},
   "outputs": [],
   "source": [
    "freq_locations = bikes['location'].value_counts()[bikes['location'].value_counts()>=10].index.tolist()\n",
    "bikes = bikes[bikes['location'].isin(freq_locations)]"
   ]
  },
  {
   "cell_type": "code",
   "execution_count": 71,
   "id": "14aec167",
   "metadata": {},
   "outputs": [
    {
     "data": {
      "text/plain": [
       "delhi                  905\n",
       "mumbai                 554\n",
       "bangalore              482\n",
       "pune                   229\n",
       "gurgaon                213\n",
       "hyderabad              203\n",
       "chennai                194\n",
       "jaipur                 161\n",
       "ahmedabad              136\n",
       "faridabad              112\n",
       "chandigarh              94\n",
       "ghaziabad               83\n",
       "kolkata                 69\n",
       "noida                   64\n",
       "thane                   58\n",
       "ludhiana                54\n",
       "vadodara                54\n",
       "rajkot                  32\n",
       "surat                   30\n",
       "lucknow                 30\n",
       "patna                   29\n",
       "navi mumbai             23\n",
       "indore                  22\n",
       "kalyan                  22\n",
       "jalandhar               20\n",
       "dehradun                16\n",
       "bhubaneshwar            16\n",
       "coimbatore              16\n",
       "chittorgarh             15\n",
       "ambala                  14\n",
       "jodhpur                 13\n",
       "rohtak                  13\n",
       "howrah                  12\n",
       "nagpur                  12\n",
       "visakhapatnam           12\n",
       "agra                    12\n",
       "nashik                  11\n",
       "meerut                  11\n",
       "ranchi                  11\n",
       "gautam buddha nagar     11\n",
       "tiruvallur              11\n",
       "ahmednagar              10\n",
       "24 pargana              10\n",
       "Name: location, dtype: int64"
      ]
     },
     "execution_count": 71,
     "metadata": {},
     "output_type": "execute_result"
    }
   ],
   "source": [
    "bikes['location'].value_counts()"
   ]
  },
  {
   "cell_type": "code",
   "execution_count": 72,
   "id": "094664e5",
   "metadata": {},
   "outputs": [
    {
     "data": {
      "image/png": "[encoded data removed]",
      "text/plain": [
       "<Figure size 1008x576 with 1 Axes>"
      ]
     },
     "metadata": {
      "needs_background": "light"
     },
     "output_type": "display_data"
    }
   ],
   "source": [
    "plt.figure(figsize=(14,8))\n",
    "sns.barplot(data=bikes, x='location', y='price', order=bikes.groupby('location')['price'].mean().sort_values().index.tolist())\n",
    "plt.xticks(rotation='vertical')\n",
    "plt.show()"
   ]
  },
  {
   "cell_type": "code",
   "execution_count": 73,
   "id": "8cb2e543",
   "metadata": {},
   "outputs": [
    {
     "data": {
      "text/plain": [
       "<seaborn.axisgrid.PairGrid at 0x29f5cde3a60>"
      ]
     },
     "execution_count": 73,
     "metadata": {},
     "output_type": "execute_result"
    },
    {
     "data": {
      "image/png": "[encoded data removed]",
      "text/plain": [
       "<Figure size 900x900 with 30 Axes>"
      ]
     },
     "metadata": {
      "needs_background": "light"
     },
     "output_type": "display_data"
    }
   ],
   "source": [
    "sns.pairplot(bikes)"
   ]
  },
  {
   "cell_type": "code",
   "execution_count": 74,
   "id": "9d46ea5f",
   "metadata": {},
   "outputs": [
    {
     "data": {
      "text/plain": [
       "<AxesSubplot:>"
      ]
     },
     "execution_count": 74,
     "metadata": {},
     "output_type": "execute_result"
    },
    {
     "data": {
      "image/png": "[encoded data removed]",
      "text/plain": [
       "<Figure size 864x576 with 2 Axes>"
      ]
     },
     "metadata": {
      "needs_background": "light"
     },
     "output_type": "display_data"
    }
   ],
   "source": [
    "plt.figure(figsize=(12,8))\n",
    "sns.heatmap(bikes.corr(), annot=True)"
   ]
  },
  {
   "cell_type": "code",
   "execution_count": 75,
   "id": "3cff32a0",
   "metadata": {},
   "outputs": [],
   "source": [
    "from sklearn.preprocessing import StandardScaler\n",
    "from sklearn.compose import ColumnTransformer\n",
    "from sklearn.preprocessing import OneHotEncoder,OrdinalEncoder,MinMaxScaler\n",
    "import numpy as np\n",
    "\n",
    "category_transformer = ColumnTransformer([\n",
    "    (\"min_max_scaler\",MinMaxScaler(),['kms_driven','mileage','power','model_year']),\n",
    "    (\"owner_ordinal_enc\",OrdinalEncoder(categories=[['fourth','third','second','first']],dtype=np.int16),['owner']),\n",
    "    (\"brand_location_ohe\",OneHotEncoder(sparse=False,handle_unknown='error',drop='first',),['location','model','company'])\n",
    "],remainder='passthrough')"
   ]
  },
  {
   "cell_type": "code",
   "execution_count": 76,
   "id": "43a7c5a6",
   "metadata": {},
   "outputs": [],
   "source": [
    "from sklearn.compose import ColumnTransformer\n",
    "from sklearn.preprocessing import StandardScaler"
   ]
  },
  {
   "cell_type": "markdown",
   "id": "d7bdcc69",
   "metadata": {},
   "source": [
    "### Learn about it"
   ]
  },
  {
   "cell_type": "markdown",
   "id": "a8b8f6c5",
   "metadata": {},
   "source": [
    "### I think that ColumnTransformer it's used in the Pipelines to transform the X and y train variables into numeric data. So maybe using ColumnTransformer it's the same as treat the original dataframe and create the X and y data just with the numeric data."
   ]
  },
  {
   "cell_type": "code",
   "execution_count": 77,
   "id": "edb4bd78",
   "metadata": {},
   "outputs": [],
   "source": [
    "from sklearn.pipeline import Pipeline\n",
    "from sklearn.ensemble import GradientBoostingRegressor, RandomForestRegressor\n",
    "from sklearn.linear_model import LinearRegression, Lasso, Ridge\n",
    "from sklearn.neighbors import KNeighborsRegressor\n",
    "from sklearn.tree import DecisionTreeRegressor\n",
    "from sklearn.svm import SVR"
   ]
  },
  {
   "cell_type": "code",
   "execution_count": 78,
   "id": "bb48589f",
   "metadata": {},
   "outputs": [],
   "source": [
    "pipeline_gbr = Pipeline([('col_tnf', category_transformer),\n",
    "                        ('gbr',GradientBoostingRegressor())])\n",
    "\n",
    "pipeline_lr = Pipeline([('col_tnf1', category_transformer),\n",
    "                       ('lr', LinearRegression())])\n",
    "\n",
    "pipeline_dtr = Pipeline([('col_tnf2', category_transformer),\n",
    "                       ('dtr', DecisionTreeRegressor())])\n",
    "\n",
    "pipeline_rfr = Pipeline([('col_tnf3', category_transformer),\n",
    "                       ('rfr', RandomForestRegressor())])\n",
    "\n",
    "pipeline_knr = Pipeline([('col_tnf4', category_transformer),\n",
    "                       ('knr', KNeighborsRegressor())])\n",
    "\n",
    "pipeline_svr = Pipeline([('col_tnf5', category_transformer),\n",
    "                       ('svr', SVR())])\n",
    "\n",
    "pipeline_rdg = Pipeline([('col_tnf6', category_transformer),\n",
    "                       ('rdg', Ridge())])\n",
    "\n",
    "#pipeline_lss = Pipeline([('col_tnf7', category_transformer),\n",
    "                       #('lss', Lasso())])"
   ]
  },
  {
   "cell_type": "markdown",
   "id": "7cab00e4",
   "metadata": {},
   "source": [
    "Lasso is returning a warning: ConvergenceWarning: Objective did not converge."
   ]
  },
  {
   "cell_type": "code",
   "execution_count": 79,
   "id": "32ac2a99",
   "metadata": {},
   "outputs": [],
   "source": [
    "#pipelines = [pipeline_gbr, pipeline_lr, pipeline_dtr, pipeline_rfr, pipeline_knr, pipeline_svr, pipeline_rdg, pipeline_lss]\n",
    "pipelines = [pipeline_gbr, pipeline_lr, pipeline_dtr, pipeline_rfr, pipeline_knr, pipeline_svr, pipeline_rdg]"
   ]
  },
  {
   "cell_type": "code",
   "execution_count": 80,
   "id": "ad618d84",
   "metadata": {},
   "outputs": [],
   "source": [
    "from sklearn.model_selection import train_test_split"
   ]
  },
  {
   "cell_type": "code",
   "execution_count": 81,
   "id": "35f5554b",
   "metadata": {},
   "outputs": [],
   "source": [
    "X = bikes.drop(columns='price')\n",
    "y = bikes['price']"
   ]
  },
  {
   "cell_type": "code",
   "execution_count": 82,
   "id": "28e0be36",
   "metadata": {},
   "outputs": [],
   "source": [
    "X_train, X_test, y_train, y_test = train_test_split(X, y, test_size=0.2, random_state=101)"
   ]
  },
  {
   "cell_type": "code",
   "execution_count": 83,
   "id": "be674d94",
   "metadata": {},
   "outputs": [],
   "source": [
    "for pipe in pipelines:\n",
    "    pipe.fit(X_train, y_train)"
   ]
  },
  {
   "cell_type": "code",
   "execution_count": 84,
   "id": "f0743db3",
   "metadata": {},
   "outputs": [],
   "source": [
    "pipe_dict = {0:'GradientBoostingRegressor', 1:'LinearRegression', 2:'DecisionTreeRegressor', 3:'RandomForestRegressor',\n",
    "            4:'KNeighborsRegressor', 5:'SVR', 6:'Ridge', 7:'Lasso'}"
   ]
  },
  {
   "cell_type": "code",
   "execution_count": 85,
   "id": "6e23d21b",
   "metadata": {},
   "outputs": [
    {
     "name": "stdout",
     "output_type": "stream",
     "text": [
      "GradientBoostingRegressor score: 0.8919242611334962\n",
      "LinearRegression score: -2.674452764163492e+23\n",
      "DecisionTreeRegressor score: 0.7662924838425537\n",
      "RandomForestRegressor score: 0.8800163303626564\n",
      "KNeighborsRegressor score: 0.770299225374748\n",
      "SVR score: -0.051741040510607794\n",
      "Ridge score: 0.877969875004332\n"
     ]
    }
   ],
   "source": [
    "for i, model in enumerate(pipelines):\n",
    "    print(f'{pipe_dict[i]} score: {model.score(X_test, y_test)}')"
   ]
  },
  {
   "cell_type": "code",
   "execution_count": null,
   "id": "9ee640c4",
   "metadata": {},
   "outputs": [],
   "source": []
  }
 ],
 "metadata": {
  "kernelspec": {
   "display_name": "Python 3",
   "language": "python",
   "name": "python3"
  },
  "language_info": {
   "codemirror_mode": {
    "name": "ipython",
    "version": 3
   },
   "file_extension": ".py",
   "mimetype": "text/x-python",
   "name": "python",
   "nbconvert_exporter": "python",
   "pygments_lexer": "ipython3",
   "version": "3.9.7"
  }
 },
 "nbformat": 4,
 "nbformat_minor": 5
}
